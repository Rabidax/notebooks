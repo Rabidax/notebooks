{
 "cells": [
  {
   "cell_type": "markdown",
   "metadata": {},
   "source": [
    "# Introduction à Python\n",
    "\n",
    "Python est un langage de programmation informatique. Un ordinateur calcule beaucoup plus vite et sans doute mieux que vous et moi, son usage peut-être donc précieux en maths.\n",
    "\n",
    "Comme tous langage, il faut apprendre à le \"parler\". Nous allons découvrir cela ensemble."
   ]
  },
  {
   "cell_type": "markdown",
   "metadata": {},
   "source": [
    "## Utilisation\n",
    "\n",
    "Cette page est découpée en \"cellules\" contenant du code Python qui se présente ainsi : "
   ]
  },
  {
   "cell_type": "code",
   "execution_count": null,
   "metadata": {},
   "outputs": [],
   "source": []
  },
  {
   "cell_type": "markdown",
   "metadata": {},
   "source": [
    "Cliquez sur une cellule et appuyez sur <kbd>Ctrl</kbd>+<kbd>Entrée</kbd> pour exécuter le code d'une cellule et voir son résultat s'afficher en dessous."
   ]
  },
  {
   "cell_type": "markdown",
   "metadata": {},
   "source": [
    "## Les quatres opérations\n",
    "\n",
    "Sélectionnez la cellule qui suit et appuyez sur <kbd>Ctrl</kbd>+<kbd>Entrée</kbd>."
   ]
  },
  {
   "cell_type": "code",
   "execution_count": null,
   "metadata": {
    "scrolled": true
   },
   "outputs": [],
   "source": [
    "1+1"
   ]
  },
  {
   "cell_type": "markdown",
   "metadata": {},
   "source": [
    "Facile. Essayez de prédire le résultat de chacunes des cellules suivantes et vérifiez vos prédictions."
   ]
  },
  {
   "cell_type": "code",
   "execution_count": null,
   "metadata": {},
   "outputs": [],
   "source": [
    "2*3"
   ]
  },
  {
   "cell_type": "code",
   "execution_count": null,
   "metadata": {},
   "outputs": [],
   "source": [
    "15/3"
   ]
  },
  {
   "cell_type": "code",
   "execution_count": null,
   "metadata": {},
   "outputs": [],
   "source": [
    "43-2"
   ]
  },
  {
   "cell_type": "code",
   "execution_count": null,
   "metadata": {},
   "outputs": [],
   "source": [
    "4^2"
   ]
  },
  {
   "cell_type": "markdown",
   "metadata": {},
   "source": [
    "Pour récapituler, Python utilise : \n",
    "\n",
    "- `+` pour l'addition\n",
    "- `-` pour la soustraction\n",
    "- `*` pour la multiplication\n",
    "- `/` pour la division\n",
    "- `^` pour élever à la puissance (comme sur vos calculatrices)"
   ]
  },
  {
   "cell_type": "markdown",
   "metadata": {},
   "source": [
    "## Définir une fonction en Python\n",
    "\n",
    "Considérons la fonction $f$ définie par $f(x)=2(x-4)(x-5)$. Et suposons que l'on veut calculer $f(4,5)$. Le code Python suivant répond à ce besoin. Exécutez les deux cellules suivantes.\n",
    "\n",
    "*Ne cherchez pas à comprendre tout la syntaxe de cette section*"
   ]
  },
  {
   "cell_type": "code",
   "execution_count": 11,
   "metadata": {},
   "outputs": [],
   "source": [
    "def f(x):\n",
    "    return 2*(x-4)*(x-5)"
   ]
  },
  {
   "cell_type": "code",
   "execution_count": 12,
   "metadata": {},
   "outputs": [
    {
     "data": {
      "text/plain": [
       "-0.5"
      ]
     },
     "execution_count": 12,
     "metadata": {},
     "output_type": "execute_result"
    }
   ],
   "source": [
    "f(4.5)"
   ]
  },
  {
   "cell_type": "markdown",
   "metadata": {},
   "source": [
    "## Garder en mémoire le résultat d'un calcul\n",
    "\n",
    "Les racines de $f$ sont 4 et 5, donc le sommet de la parabole associée à $f$ est le point \n",
    "\\begin{equation*}\n",
    "\\left(\\frac{4+5}{2};f\\left(\\frac{4+5}{2}\\right)\\right)\n",
    "\\end{equation*}\n",
    "\n",
    "Python est tout à fait capable de faire ces calculs. Pour ce simplifier la vie, on peut stocker la valeur $\\frac{4+5}{2}$ dans la mémoire de Python pour la réutiliser plus tard.\n",
    "\n",
    "Cette opération de stockage s'effectue grâce au signe `=`"
   ]
  },
  {
   "cell_type": "code",
   "execution_count": 21,
   "metadata": {},
   "outputs": [],
   "source": [
    "a = (4+5)/2"
   ]
  },
  {
   "cell_type": "markdown",
   "metadata": {},
   "source": [
    "On peut alors demander à Python la valeur contenue dans `a` :"
   ]
  },
  {
   "cell_type": "code",
   "execution_count": 22,
   "metadata": {},
   "outputs": [
    {
     "data": {
      "text/plain": [
       "4.5"
      ]
     },
     "execution_count": 22,
     "metadata": {},
     "output_type": "execute_result"
    }
   ],
   "source": [
    "a"
   ]
  },
  {
   "cell_type": "markdown",
   "metadata": {},
   "source": [
    "Et donc logiquement : "
   ]
  },
  {
   "cell_type": "code",
   "execution_count": 23,
   "metadata": {},
   "outputs": [
    {
     "data": {
      "text/plain": [
       "-0.5"
      ]
     },
     "execution_count": 23,
     "metadata": {},
     "output_type": "execute_result"
    }
   ],
   "source": [
    "f(a)"
   ]
  },
  {
   "cell_type": "markdown",
   "metadata": {},
   "source": [
    "**Attention** : le signe `=` de Python diffère du signe égal mathématique. En maths, $=$ signifie l'égalité entre deux quantités, tandis qu'en Python c'est une opération qui stocke la valeur de droite dans la mémoire sous le nom à gauche. Donc le code Python suivant est correct"
   ]
  },
  {
   "cell_type": "code",
   "execution_count": 27,
   "metadata": {},
   "outputs": [],
   "source": [
    "b = 1\n",
    "b = 2"
   ]
  },
  {
   "cell_type": "markdown",
   "metadata": {},
   "source": [
    "alors que si on lit ces lignes comme des maths, ce serait absurde. Python fait les opérations dans l'ordre, donc maintenant `b` vaut 2 : "
   ]
  },
  {
   "cell_type": "code",
   "execution_count": 28,
   "metadata": {},
   "outputs": [
    {
     "data": {
      "text/plain": [
       "2"
      ]
     },
     "execution_count": 28,
     "metadata": {},
     "output_type": "execute_result"
    }
   ],
   "source": [
    "b"
   ]
  },
  {
   "cell_type": "markdown",
   "metadata": {},
   "source": [
    "On appelle `a` ou `b` des *variables*. On peut alors faire des calculs dessus comme attendu : "
   ]
  },
  {
   "cell_type": "code",
   "execution_count": 29,
   "metadata": {},
   "outputs": [
    {
     "data": {
      "text/plain": [
       "7.5"
      ]
     },
     "execution_count": 29,
     "metadata": {},
     "output_type": "execute_result"
    }
   ],
   "source": [
    "a+3"
   ]
  },
  {
   "cell_type": "code",
   "execution_count": 30,
   "metadata": {},
   "outputs": [
    {
     "data": {
      "text/plain": [
       "1"
      ]
     },
     "execution_count": 30,
     "metadata": {},
     "output_type": "execute_result"
    }
   ],
   "source": [
    "b-1"
   ]
  }
 ],
 "metadata": {
  "kernelspec": {
   "display_name": "Python 3",
   "language": "python",
   "name": "python3"
  },
  "language_info": {
   "codemirror_mode": {
    "name": "ipython",
    "version": 3
   },
   "file_extension": ".py",
   "mimetype": "text/x-python",
   "name": "python",
   "nbconvert_exporter": "python",
   "pygments_lexer": "ipython3",
   "version": "3.6.9"
  }
 },
 "nbformat": 4,
 "nbformat_minor": 2
}
